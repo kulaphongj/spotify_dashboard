{
 "cells": [
  {
   "cell_type": "code",
   "execution_count": 2,
   "id": "20076ec3",
   "metadata": {
    "ExecuteTime": {
     "end_time": "2024-03-12T17:16:29.744543Z",
     "start_time": "2024-03-12T17:16:29.501133Z"
    }
   },
   "outputs": [],
   "source": [
    "import pandas as pd"
   ]
  },
  {
   "cell_type": "code",
   "execution_count": 5,
   "id": "56fac820",
   "metadata": {
    "ExecuteTime": {
     "end_time": "2024-03-12T17:16:44.484395Z",
     "start_time": "2024-03-12T17:16:43.978999Z"
    }
   },
   "outputs": [
    {
     "name": "stdout",
     "output_type": "stream",
     "text": [
      "(47445, 25)\n",
      "(47445, 25)\n"
     ]
    }
   ],
   "source": [
    "df_cty = pd.read_csv('data/raw/spotify_tracks_country.csv')\n",
    "print(df_cty.shape)\n",
    "\n",
    "df_cty24 = df_cty[df_cty['snapshot_date']>'2024-02-01']\n",
    "print(df_cty24.shape)\n",
    "\n",
    "df_cty24.to_csv('data/raw/spotify_tracks_country.csv', encoding='utf-8-sig', index=False)"
   ]
  },
  {
   "cell_type": "code",
   "execution_count": 19,
   "id": "d7f12256",
   "metadata": {
    "ExecuteTime": {
     "end_time": "2024-03-12T17:18:29.935111Z",
     "start_time": "2024-03-12T17:18:29.714530Z"
    }
   },
   "outputs": [
    {
     "name": "stdout",
     "output_type": "stream",
     "text": [
      "(19947, 20)\n",
      "(19947, 20)\n"
     ]
    }
   ],
   "source": [
    "df_track = pd.read_csv('data/preprocessed/df_tracks_remove_dup.csv')\n",
    "print(df_track.shape)\n",
    "\n",
    "df_track = df_track[df_track['popularity']>50]\n",
    "print(df_track.shape)\n",
    "\n",
    "df_track.to_csv('data/preprocessed/df_tracks_remove_dup.csv', encoding='utf-8-sig', index=False)"
   ]
  },
  {
   "cell_type": "code",
   "execution_count": null,
   "id": "7f36ee94",
   "metadata": {},
   "outputs": [],
   "source": []
  }
 ],
 "metadata": {
  "kernelspec": {
   "display_name": "Python 3 (ipykernel)",
   "language": "python",
   "name": "python3"
  },
  "language_info": {
   "codemirror_mode": {
    "name": "ipython",
    "version": 3
   },
   "file_extension": ".py",
   "mimetype": "text/x-python",
   "name": "python",
   "nbconvert_exporter": "python",
   "pygments_lexer": "ipython3",
   "version": "3.9.6"
  },
  "toc": {
   "base_numbering": 1,
   "nav_menu": {},
   "number_sections": false,
   "sideBar": true,
   "skip_h1_title": false,
   "title_cell": "Table of Contents",
   "title_sidebar": "Contents",
   "toc_cell": false,
   "toc_position": {},
   "toc_section_display": true,
   "toc_window_display": false
  }
 },
 "nbformat": 4,
 "nbformat_minor": 5
}
